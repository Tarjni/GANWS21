{
  "nbformat": 4,
  "nbformat_minor": 0,
  "metadata": {
    "colab": {
      "name": "2.1Exercise2-DCGAN.ipynb",
      "provenance": [],
      "collapsed_sections": [],
      "toc_visible": true,
      "include_colab_link": true
    },
    "kernelspec": {
      "name": "python3",
      "display_name": "Python 3"
    }
  },
  "cells": [
    {
      "cell_type": "markdown",
      "metadata": {
        "id": "view-in-github",
        "colab_type": "text"
      },
      "source": [
        "<a href=\"https://colab.research.google.com/github/datavzch/GANWS21_DEMO/blob/main/2_1Exercise2_DCGAN.ipynb\" target=\"_parent\"><img src=\"https://colab.research.google.com/assets/colab-badge.svg\" alt=\"Open In Colab\"/></a>"
      ]
    },
    {
      "cell_type": "markdown",
      "metadata": {
        "id": "xZ55qYoe_db7"
      },
      "source": [
        "\n",
        "<h1>Exercise 2 - Image Transition </h1>\n",
        "\n",
        "Welcome to the second practical exercise of this course. During this exercise we will work with: \n",
        "\n",
        "*   DC GAN\n",
        "\n",
        "\n",
        "If you have any questions please contact us to: juancarlos@chiba-u.jp or hisanimi@chiba-u.jp "
      ]
    },
    {
      "cell_type": "markdown",
      "metadata": {
        "id": "3YpM4mkCAmJC"
      },
      "source": [
        "# **Exercise Introduction**\n",
        "This Exercise will give an introduction to DCGANs through an example. \n",
        "\n",
        "\n",
        "(DCGAN is a model designed in 2015 by Radford et. al. in the paper Unsupervised Representation Learning with Deep Convolutional Generative Adversarial Networks. It is a GAN architecture both very simple and efficient for low resolution image generation (up to 64x64).)\n",
        "\n",
        "We will train a generative adversarial network (GAN) to generate new animals after showing it pictures of many real animals. \n",
        "\n",
        "Most of the code here is from the DCGAN implementation in pytorch/examples, and this document will give a thorough explanation of the implementation and shed light on how and why this model works.\n",
        "\n",
        "But don’t worry, no prior knowledge of GANs is required, but it may require some time reasoning about what is actually happening. \n",
        "\n",
        "\n"
      ]
    },
    {
      "cell_type": "markdown",
      "metadata": {
        "id": "3F-GZvb_KR9w"
      },
      "source": [
        "\n",
        "After completing this exercise, you will know:\n",
        "\n",
        "*   How to interpolate between points in latent space and generate images that morph from\n",
        "one image to another.\n",
        "\n",
        "*   How to perform vector arithmetic in latent space and achieve targeted effects in the\n",
        "resulting images.\n",
        "\n"
      ]
    },
    {
      "cell_type": "markdown",
      "metadata": {
        "id": "f5GmFQsTK7Z3"
      },
      "source": [
        "**This Exercise is divided into the following stages**\n",
        "\n",
        "*   Import Required Libraries\n",
        "*   Define Discriminator and Generator\n",
        "*   Define GAN\n",
        "*   Generate Sample\n",
        "*   Summarize Performance\n",
        "*   Model Training\n",
        "*  Prediction on resulting model\n",
        "*  Generating Transition Video\n",
        "\n",
        "\n",
        "\n"
      ]
    },
    {
      "cell_type": "markdown",
      "metadata": {
        "id": "pnfTAv7YLV5V"
      },
      "source": [
        "# Exercise 2"
      ]
    },
    {
      "cell_type": "markdown",
      "metadata": {
        "id": "5hX17AOwdtPR"
      },
      "source": [
        "https://github.com/datavzch/GANWS21_DEMO/blob/main/DCGAN_Example.ipynb"
      ]
    }
  ]
}