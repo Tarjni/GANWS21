{
  "nbformat": 4,
  "nbformat_minor": 0,
  "metadata": {
    "colab": {
      "name": "1.1Exercise1.ipynb",
      "provenance": [],
      "collapsed_sections": [],
      "toc_visible": true,
      "include_colab_link": true
    },
    "kernelspec": {
      "name": "python3",
      "display_name": "Python 3"
    }
  },
  "cells": [
    {
      "cell_type": "markdown",
      "metadata": {
        "id": "view-in-github",
        "colab_type": "text"
      },
      "source": [
        "<a href=\"https://colab.research.google.com/github/datavzch/GANWS21_DEMO/blob/main/1_1Exercise1.ipynb\" target=\"_parent\"><img src=\"https://colab.research.google.com/assets/colab-badge.svg\" alt=\"Open In Colab\"/></a>"
      ]
    },
    {
      "cell_type": "markdown",
      "metadata": {
        "id": "xZ55qYoe_db7"
      },
      "source": [
        "\n",
        "<h1>Exercise 1 - Trainning Simple GAN</h1>\n",
        "\n",
        "Welcome to the first practical exercise of this course. During this exercise we will work with: \n",
        "\n",
        "*   One-dimensional GAN\n",
        "\n",
        "\n",
        "If you have any questions please contact us to: juancarlos@chiba-u.jp or hisanimi@chiba-u.jp "
      ]
    },
    {
      "cell_type": "markdown",
      "metadata": {
        "id": "3YpM4mkCAmJC"
      },
      "source": [
        "# **Introduction to 1 Dimentional GAN**\n",
        "\n",
        "\n",
        "Generative Adversarial Networks, or GANs for short, are a deep learning architecture for training powerful generator models. A generator model is capable of generating new artificial samples that plausibly could have come from an existing distribution of samples. GANs are comprised\n",
        "of both generator and discriminator models. The generator is responsible for generating new samples from the domain, and the discriminator is responsible for classifying whether samples are real or fake (generated). \n",
        "\n",
        "Importantly, the performance of the discriminator model is used to update both the model weights of the discriminator itself and the generator model. This means that the generator never actually sees examples from the domain and is adapted based on how well the discriminator performs.\n",
        "\n",
        "\n",
        "This is a complex type of model both to understand and to train. One approach to better understand the nature of GAN models and how they can be trained is to develop a model from scratch for a very simple task.\n",
        "\n",
        "\n",
        "\n"
      ]
    },
    {
      "cell_type": "markdown",
      "metadata": {
        "id": "1UF9bx6VJ3UC"
      },
      "source": [
        "A simple task that provides a good context for developing a\n",
        "simple GAN from scratch is a one-dimensional function. \n",
        "\n",
        "This is because both real and generated\n",
        "samples can be plotted and visually inspected to get an idea of what has been learned. A simple function also does not require sophisticated neural network models, meaning the specific generator and discriminator models used on the architecture can be easily understood. \n",
        "\n",
        "**In this Exercise, we will select a simple one-dimensional function** and use it as the basis for developing\n",
        "and evaluating a generative adversarial network from scratch using the Keras deep learning\n",
        "library. "
      ]
    },
    {
      "cell_type": "markdown",
      "metadata": {
        "id": "3F-GZvb_KR9w"
      },
      "source": [
        "\n",
        "After completing this exercise, you will know:\n",
        "\n",
        "*   The benefit of developing a generative adversarial network from scratch for a simple\n",
        "one-dimensional function.\n",
        "*   How to develop separate discriminator and generator models, as well as a composite model\n",
        "for training the generator via the discriminator’s predictive behavior.\n",
        "*   How to subjectively evaluate generated samples in the context of real examples from the\n",
        "problem domain.\n",
        "\n",
        "\n"
      ]
    },
    {
      "cell_type": "markdown",
      "metadata": {
        "id": "f5GmFQsTK7Z3"
      },
      "source": [
        "**This Exercise is divided into six parts; they are:**\n",
        "\n",
        "*   Import Required Libraries\n",
        "*   Define Discriminator and Generator\n",
        "*   Define GAN\n",
        "*   Generate Sample\n",
        "*   Summarize Performance\n",
        "*   Model Training\n",
        "\n"
      ]
    },
    {
      "cell_type": "markdown",
      "metadata": {
        "id": "pnfTAv7YLV5V"
      },
      "source": [
        "# Exercise 1"
      ]
    },
    {
      "cell_type": "markdown",
      "metadata": {
        "id": "Wx2WkYICLiLn"
      },
      "source": [
        "https://github.com/datavzch/GANWS21_DEMO/blob/main/Simple_GAN_Example.ipynb"
      ]
    }
  ]
}