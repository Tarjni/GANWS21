{
  "nbformat": 4,
  "nbformat_minor": 0,
  "metadata": {
    "accelerator": "GPU",
    "colab": {
      "name": "Simple_GAN_Example.ipynb",
      "provenance": [],
      "collapsed_sections": [],
      "include_colab_link": true
    },
    "kernelspec": {
      "display_name": "Python 3",
      "name": "python3"
    }
  },
  "cells": [
    {
      "cell_type": "markdown",
      "metadata": {
        "id": "view-in-github",
        "colab_type": "text"
      },
      "source": [
        "<a href=\"https://colab.research.google.com/github/datavzch/GANWS21/blob/main/Simple_GAN_Example.ipynb\" target=\"_parent\"><img src=\"https://colab.research.google.com/assets/colab-badge.svg\" alt=\"Open In Colab\"/></a>"
      ]
    },
    {
      "cell_type": "markdown",
      "metadata": {
        "id": "SNyHtSzZYq7L"
      },
      "source": [
        "# **Import Required Libraries**\n"
      ]
    },
    {
      "cell_type": "code",
      "metadata": {
        "id": "1R01wbeFY2O7"
      },
      "source": [
        "%matplotlib inline\n",
        "import numpy as np\n",
        "import tensorflow.keras as keras\n",
        "import matplotlib.pyplot as plt\n"
      ],
      "execution_count": null,
      "outputs": []
    },
    {
      "cell_type": "markdown",
      "metadata": {
        "id": "UPoQthLdZSEM"
      },
      "source": [
        "# **Define Discriminator and Generator**"
      ]
    },
    {
      "cell_type": "code",
      "metadata": {
        "id": "FkhEgWSIZY6P"
      },
      "source": [
        "#Input: Two real values (a sample)\n",
        "#Output: Classification (True or False, 0.0 - 1.0) \n",
        "\n",
        "def define_discriminator(n_inputs= 2):\n",
        "    model = keras.models.Sequential()  #Groups a linear stack of layers to the model https://www.tensorflow.org/api_docs/python/tf/keras/Model\n",
        "    \n",
        "    model.add(keras.layers.Dense(units= 50, #Regular densely-connected NN layer https://www.tensorflow.org/api_docs/python/tf/keras/layers/Dense\n",
        "                                 activation= 'relu', #Activation function - It takes in the output signal and converts it into some form that can be taken as the next input\n",
        "                                 input_dim= n_inputs,\n",
        "                                 kernel_initializer= 'he_uniform')) #Recomended for RELU\n",
        "    model.add(keras.layers.Dense(units= 1,  #Regular densely-connected NN layer \n",
        "                                 activation= 'sigmoid')) #Activation function\n",
        "    model.compile(loss= 'binary_crossentropy',  #Configure model for trainning  - returns a weighted loss float tensor\n",
        "                  optimizer= 'adam', #https://www.tensorflow.org/api_docs/python/tf/keras/optimizers\n",
        "                  metrics= ['accuracy']) #Calculates how often predictions match binary labels - returns prediction accurary\n",
        "    \n",
        "    return model"
      ],
      "execution_count": null,
      "outputs": []
    },
    {
      "cell_type": "code",
      "metadata": {
        "id": "le-T9pFtZeQl"
      },
      "source": [
        "£#Input: Latent space point  -  random numbers\n",
        "#Output: A generated sample of two real values \n",
        "\n",
        "def define_generator(latent_dim, n_outputs= 2):\n",
        "    model = keras.models.Sequential() #Groups a linear stack of layers to the model https://www.tensorflow.org/api_docs/python/tf/keras/Model\n",
        "    model.add(keras.layers.Dense(units= 20, \n",
        "                                 input_dim= latent_dim, \n",
        "                                 activation= 'relu', #Activation function - It takes in the output signal and converts it into some form that can be taken as the next input\n",
        "                                 kernel_initializer= 'he_uniform')) #Recomended for RELU\n",
        "    model.add(keras.layers.Dense(units= n_outputs, \n",
        "                                 activation= 'linear')) \n",
        "    \n",
        "    return model"
      ],
      "execution_count": null,
      "outputs": []
    },
    {
      "cell_type": "markdown",
      "metadata": {
        "id": "xhB741fsZrlJ"
      },
      "source": [
        "# **Define GAN**"
      ]
    },
    {
      "cell_type": "code",
      "metadata": {
        "id": "uc688W-3Z1k2"
      },
      "source": [
        "def define_gan(generator, discriminator):\n",
        "    discriminator.trainable = False \n",
        "    model = keras.models.Sequential() \n",
        "    model.add(generator) # Add generator to model\n",
        "    model.add(discriminator) # Add discriminator to model\n",
        "    model.compile(loss= 'binary_crossentropy', optimizer= 'adam') #Configure model for trainning  - returns a weighted loss float tensor\n",
        "    \n",
        "    return model"
      ],
      "execution_count": null,
      "outputs": []
    },
    {
      "cell_type": "markdown",
      "metadata": {
        "id": "6B56u-KwZ68I"
      },
      "source": [
        "# **Generate Sample**"
      ]
    },
    {
      "cell_type": "code",
      "metadata": {
        "id": "Y1Zcmx1qZ2rh"
      },
      "source": [
        "def generate_real_sample(n): # Generating our input / Dataset \n",
        "    X1 = np.random.rand(n) - 0.5 # Generating a random value between -0.5 and 0.5\n",
        "    X2 = X1 * X1 # X^2\n",
        "    X1 = X1.reshape((n, 1))\n",
        "    X2 = X2.reshape((n, 1))\n",
        "    X = np.hstack((X1, X2)) # Stacked array of original X1 value and X^2\n",
        "    y = np.ones((n, 1)) # Label (1) Real Values\n",
        "    return X, y "
      ],
      "execution_count": null,
      "outputs": []
    },
    {
      "cell_type": "code",
      "metadata": {
        "id": "3UJXZt7bZ__z"
      },
      "source": [
        "def generate_latent_points(latent_dim, n): \n",
        "    x_input = np.random.rand(latent_dim * n) #Generate noise (Random numbers based on latent_dim and n)\n",
        "    x_input = x_input.reshape((n, latent_dim))\n",
        "    return x_input"
      ],
      "execution_count": null,
      "outputs": []
    },
    {
      "cell_type": "code",
      "metadata": {
        "id": "rngtPb_8aCUX"
      },
      "source": [
        "def generate_fake_sample(generator, latent_dim, n): #Generating fake samples - Random numbers \n",
        "    x_input = generate_latent_points(latent_dim, n) \n",
        "    X = generator.predict(x_input)  #Generates predictions for the input samples.\n",
        "    y = np.zeros((n, 1)) #Label (0) Fake Values\n",
        "    return X, y"
      ],
      "execution_count": null,
      "outputs": []
    },
    {
      "cell_type": "markdown",
      "metadata": {
        "id": "rkq3fapSaaId"
      },
      "source": [
        "# **Summarize Performance**"
      ]
    },
    {
      "cell_type": "code",
      "metadata": {
        "id": "RGidFu8JaFJ8"
      },
      "source": [
        "#Visualizing training results\n",
        "def summarize_performance(epoch, generator, discriminator, latent_dim, n = 100): #Plotting Performance \n",
        "    X_real, y_real = generate_real_sample(n)\n",
        "    X_fake, y_fake = generate_fake_sample(generator= generator,\n",
        "                                          latent_dim= latent_dim,\n",
        "                                          n = n)\n",
        "    _, acc_real = discriminator.evaluate(X_real, y_real, verbose= 0) # Getting prediction from real samples\n",
        "    _, acc_fake = discriminator.evaluate(X_fake, y_fake, verbose= 0) # Getting prediction from fake samples\n",
        "    print(f'Epoch: {epoch + 1}, Acc_real: {acc_real}, Acc_fake: {acc_fake}') \n",
        "    plt.scatter(X_real[:,0], X_real[:,1], color= 'red') #Selecting red color for real values\n",
        "    plt.scatter(X_fake[:,0], X_fake[:,1], color= 'blue') #Selecting blue colors for fake values\n",
        "    file_name= f'Eval_Epoch{epoch + 1}.png' #Creating image\n",
        "    plt.savefig(file_name) #Saving Image\n",
        "    plt.show() #Showing plot\n",
        "    plt.close()"
      ],
      "execution_count": null,
      "outputs": []
    },
    {
      "cell_type": "markdown",
      "metadata": {
        "id": "HnsG1nvjanEE"
      },
      "source": [
        "# **Model Training**"
      ]
    },
    {
      "cell_type": "code",
      "metadata": {
        "id": "ik0Pof73awRO"
      },
      "source": [
        "def train(g_model, d_model, GAN_model, latent_dim, n_batch= 256, epochs = 50000): # Definning Training function\n",
        "    half_batch = int(n_batch / 2) \n",
        "    for i in range(epochs): #for every epoch\n",
        "        X_real, y_real = generate_real_sample(half_batch) # Generate real samples\n",
        "        X_fake, y_fake = generate_fake_sample(generator= g_model, # Generate fake samples\n",
        "                                              latent_dim= latent_dim, \n",
        "                                              n= half_batch)\n",
        "        d_model.train_on_batch(X_real, y_real) # Train Discriminator on real samples  - Runs a single update on a single batch of data.\n",
        "        d_model.train_on_batch(X_fake, y_fake) # Train Discriminator on fake samples - Runs a single update on a single batch of data.\n",
        "        \n",
        "        X_gan = generate_latent_points(latent_dim, n_batch) #generate latent points \n",
        "        y_gan = np.ones((n_batch, 1)) #generate labels\n",
        "        GAN_model.train_on_batch(X_gan, y_gan) #\n",
        "        \n",
        "        if (i+1)%5000 == 0: # Every 5000 Print and Plot Results of epoch\n",
        "            summarize_performance(epoch= i,  \n",
        "                                  generator= g_model,\n",
        "                                  discriminator= d_model,\n",
        "                                  latent_dim= latent_dim)"
      ],
      "execution_count": null,
      "outputs": []
    },
    {
      "cell_type": "code",
      "metadata": {
        "id": "L8W_L1Jsa01H",
        "colab": {
          "base_uri": "https://localhost:8080/",
          "height": 1000
        },
        "outputId": "0fb85749-15cd-4fae-dcf5-339952e5b9bd"
      },
      "source": [
        "#start Trainning - It takes time. depending on your machine it can take up to 10 to 20 minutes to visualize some result\n",
        "latent_dim = 5\n",
        "gen_model = define_generator(latent_dim= latent_dim)\n",
        "dis_model = define_discriminator()\n",
        "gan_model = define_gan(gen_model, dis_model)\n",
        "train(g_model= gen_model, d_model= dis_model, GAN_model= gan_model, latent_dim= latent_dim)"
      ],
      "execution_count": null,
      "outputs": [
        {
          "output_type": "stream",
          "text": [
            "Epoch: 5000, Acc_real: 0.8299999833106995, Acc_fake: 0.07000000029802322\n"
          ],
          "name": "stdout"
        },
        {
          "output_type": "display_data",
          "data": {
            "image/png": "[encoded data removed]",
            "text/plain": [
              "<Figure size 432x288 with 1 Axes>"
            ]
          },
          "metadata": {
            "tags": [],
            "needs_background": "light"
          }
        },
        {
          "output_type": "stream",
          "text": [
            "Epoch: 10000, Acc_real: 0.8299999833106995, Acc_fake: 0.0\n"
          ],
          "name": "stdout"
        },
        {
          "output_type": "display_data",
          "data": {
            "image/png": "[encoded data removed]",
            "text/plain": [
              "<Figure size 432x288 with 1 Axes>"
            ]
          },
          "metadata": {
            "tags": [],
            "needs_background": "light"
          }
        },
        {
          "output_type": "stream",
          "text": [
            "Epoch: 15000, Acc_real: 0.3199999928474426, Acc_fake: 1.0\n"
          ],
          "name": "stdout"
        },
        {
          "output_type": "display_data",
          "data": {
            "image/png": "[encoded data removed]",
            "text/plain": [
              "<Figure size 432x288 with 1 Axes>"
            ]
          },
          "metadata": {
            "tags": [],
            "needs_background": "light"
          }
        },
        {
          "output_type": "stream",
          "text": [
            "Epoch: 20000, Acc_real: 0.5099999904632568, Acc_fake: 0.4699999988079071\n"
          ],
          "name": "stdout"
        },
        {
          "output_type": "display_data",
          "data": {
            "image/png": "[encoded data removed]",
            "text/plain": [
              "<Figure size 432x288 with 1 Axes>"
            ]
          },
          "metadata": {
            "tags": [],
            "needs_background": "light"
          }
        },
        {
          "output_type": "stream",
          "text": [
            "Epoch: 25000, Acc_real: 0.3499999940395355, Acc_fake: 0.6499999761581421\n"
          ],
          "name": "stdout"
        },
        {
          "output_type": "display_data",
          "data": {
            "image/png": "[encoded data removed]",
            "text/plain": [
              "<Figure size 432x288 with 1 Axes>"
            ]
          },
          "metadata": {
            "tags": [],
            "needs_background": "light"
          }
        },
        {
          "output_type": "stream",
          "text": [
            "Epoch: 30000, Acc_real: 0.49000000953674316, Acc_fake: 0.38999998569488525\n"
          ],
          "name": "stdout"
        },
        {
          "output_type": "display_data",
          "data": {
            "image/png": "[encoded data removed]",
            "text/plain": [
              "<Figure size 432x288 with 1 Axes>"
            ]
          },
          "metadata": {
            "tags": [],
            "needs_background": "light"
          }
        }
      ]
    },
    {
      "cell_type": "markdown",
      "metadata": {
        "id": "uc9k9NhDaY4U"
      },
      "source": [
        "# **Modify Input to change Output Graph**"
      ]
    },
    {
      "cell_type": "code",
      "metadata": {
        "id": "kezlaT_GapaR"
      },
      "source": [
        "# New Input \r\n",
        "def generate_real_sample(n):\r\n",
        "    X1 = np.random.rand(n) - 0.5 # Generates random numbers - Determines the direction of the output graph\r\n",
        "    X2 = X1 * X1 # One Dimensional Function - Determines the Shape of the output\r\n",
        "    X1 = X1.reshape((n, 1))\r\n",
        "    X2 = X2.reshape((n, 1))\r\n",
        "    X = np.hstack((X1, X2))\r\n",
        "    y = np.ones((n, 1))\r\n",
        "    return X, y"
      ],
      "execution_count": null,
      "outputs": []
    },
    {
      "cell_type": "code",
      "metadata": {
        "id": "-xqr_jMQbK0R"
      },
      "source": [
        "# Generate new Output \r\n",
        "# Remember Trainning takes time. depending on your machine it can take up to 10 to 20 minutes to visualize some result\r\n",
        "\r\n",
        "latent_dim = 5\r\n",
        "gen_model = define_generator(latent_dim= latent_dim)\r\n",
        "dis_model = define_discriminator()\r\n",
        "gan_model = define_gan(gen_model, dis_model)\r\n",
        "train(g_model= gen_model, d_model= dis_model, GAN_model= gan_model, latent_dim= latent_dim)"
      ],
      "execution_count": null,
      "outputs": []
    }
  ]
}