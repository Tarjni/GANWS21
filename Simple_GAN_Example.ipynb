{
  "nbformat": 4,
  "nbformat_minor": 0,
  "metadata": {
    "accelerator": "GPU",
    "colab": {
      "name": "Simple_GAN_Example.ipynb",
      "provenance": [],
      "collapsed_sections": [],
      "include_colab_link": true
    },
    "kernelspec": {
      "display_name": "Python 3",
      "name": "python3"
    }
  },
  "cells": [
    {
      "cell_type": "markdown",
      "metadata": {
        "id": "view-in-github",
        "colab_type": "text"
      },
      "source": [
        "<a href=\"https://colab.research.google.com/github/datavzch/GANWS21_DEMO/blob/main/Simple_GAN_Example.ipynb\" target=\"_parent\"><img src=\"https://colab.research.google.com/assets/colab-badge.svg\" alt=\"Open In Colab\"/></a>"
      ]
    },
    {
      "cell_type": "markdown",
      "metadata": {
        "id": "SNyHtSzZYq7L"
      },
      "source": [
        "# **Import Required Libraries**\n"
      ]
    },
    {
      "cell_type": "code",
      "metadata": {
        "id": "1R01wbeFY2O7"
      },
      "source": [
        "%matplotlib inline\n",
        "import numpy as np\n",
        "import tensorflow.keras as keras\n",
        "import matplotlib.pyplot as plt\n"
      ],
      "execution_count": null,
      "outputs": []
    },
    {
      "cell_type": "markdown",
      "metadata": {
        "id": "UPoQthLdZSEM"
      },
      "source": [
        "# **Define Discriminator and Generator**"
      ]
    },
    {
      "cell_type": "code",
      "metadata": {
        "id": "FkhEgWSIZY6P"
      },
      "source": [
        "def define_discriminator(n_inputs= 2):\n",
        "    model = keras.models.Sequential()\n",
        "    model.add(keras.layers.Dense(units= 50,\n",
        "                                 activation= 'relu',\n",
        "                                 input_dim= n_inputs,\n",
        "                                 kernel_initializer= 'he_uniform'))\n",
        "    model.add(keras.layers.Dense(units= 1,\n",
        "                                 activation= 'sigmoid'))\n",
        "    model.compile(loss= 'binary_crossentropy',\n",
        "                  optimizer= 'adam',\n",
        "                  metrics= ['accuracy'])\n",
        "    \n",
        "    return model"
      ],
      "execution_count": null,
      "outputs": []
    },
    {
      "cell_type": "code",
      "metadata": {
        "id": "le-T9pFtZeQl"
      },
      "source": [
        "def define_generator(latent_dim, n_outputs= 2):\n",
        "    model = keras.models.Sequential()\n",
        "    model.add(keras.layers.Dense(units= 20,\n",
        "                                 input_dim= latent_dim,\n",
        "                                 activation= 'relu',\n",
        "                                 kernel_initializer= 'he_uniform'))\n",
        "    model.add(keras.layers.Dense(units= n_outputs,\n",
        "                                 activation= 'linear'))\n",
        "    \n",
        "    return model"
      ],
      "execution_count": null,
      "outputs": []
    },
    {
      "cell_type": "code",
      "metadata": {
        "id": "vNR3Kmih12HL"
      },
      "source": [
        ""
      ],
      "execution_count": null,
      "outputs": []
    },
    {
      "cell_type": "markdown",
      "metadata": {
        "id": "xhB741fsZrlJ"
      },
      "source": [
        "# **Define GAN**"
      ]
    },
    {
      "cell_type": "code",
      "metadata": {
        "id": "uc688W-3Z1k2"
      },
      "source": [
        "def define_gan(generator, discriminator):\n",
        "    discriminator.trainable = False\n",
        "    model = keras.models.Sequential()\n",
        "    model.add(generator)\n",
        "    model.add(discriminator)\n",
        "    model.compile(loss= 'binary_crossentropy', optimizer= 'adam')\n",
        "    \n",
        "    return model"
      ],
      "execution_count": null,
      "outputs": []
    },
    {
      "cell_type": "markdown",
      "metadata": {
        "id": "6B56u-KwZ68I"
      },
      "source": [
        "# **Generate Sample**"
      ]
    },
    {
      "cell_type": "code",
      "metadata": {
        "id": "Y1Zcmx1qZ2rh"
      },
      "source": [
        "# Input \n",
        "def generate_real_sample(n):\n",
        "    X1 = np.random.rand(n) - 0.5 # Generates random numbers - Determines the direction of the output graph\n",
        "    X2 = X1 * X1 # One Dimensional Function - Determines the Shape of the output\n",
        "    X1 = X1.reshape((n, 1))\n",
        "    X2 = X2.reshape((n, 1))\n",
        "    X = np.hstack((X1, X2))\n",
        "    y = np.ones((n, 1))\n",
        "    return X, y"
      ],
      "execution_count": null,
      "outputs": []
    },
    {
      "cell_type": "code",
      "metadata": {
        "id": "3UJXZt7bZ__z"
      },
      "source": [
        "def generate_latent_points(latent_dim, n):\n",
        "    x_input = np.random.rand(latent_dim * n)\n",
        "    x_input = x_input.reshape((n, latent_dim))\n",
        "    return x_input"
      ],
      "execution_count": null,
      "outputs": []
    },
    {
      "cell_type": "code",
      "metadata": {
        "id": "rngtPb_8aCUX"
      },
      "source": [
        "def generate_fake_sample(generator, latent_dim, n):\n",
        "    x_input = generate_latent_points(latent_dim, n)\n",
        "    X = generator.predict(x_input)\n",
        "    y = np.zeros((n, 1))\n",
        "    return X, y"
      ],
      "execution_count": null,
      "outputs": []
    },
    {
      "cell_type": "markdown",
      "metadata": {
        "id": "rkq3fapSaaId"
      },
      "source": [
        "# **Summarize Performance**"
      ]
    },
    {
      "cell_type": "code",
      "metadata": {
        "id": "RGidFu8JaFJ8"
      },
      "source": [
        "def summarize_performance(epoch, generator, discriminator, latent_dim, n = 100):\n",
        "    X_real, y_real = generate_real_sample(n)\n",
        "    X_fake, y_fake = generate_fake_sample(generator= generator,\n",
        "                                          latent_dim= latent_dim,\n",
        "                                          n = n)\n",
        "    _, acc_real = discriminator.evaluate(X_real, y_real, verbose= 0)\n",
        "    _, acc_fake = discriminator.evaluate(X_fake, y_fake, verbose= 0)\n",
        "    print(f'Epoch: {epoch + 1}, Acc_real: {acc_real}, Acc_fake: {acc_fake}')\n",
        "    plt.scatter(X_real[:,0], X_real[:,1], color= 'red')\n",
        "    plt.scatter(X_fake[:,0], X_fake[:,1], color= 'blue')\n",
        "    file_name= f'Eval_Epoch{epoch + 1}.png'\n",
        "    plt.savefig(file_name)\n",
        "    plt.show()\n",
        "    plt.close()"
      ],
      "execution_count": null,
      "outputs": []
    },
    {
      "cell_type": "markdown",
      "metadata": {
        "id": "HnsG1nvjanEE"
      },
      "source": [
        "# **Model Training**"
      ]
    },
    {
      "cell_type": "code",
      "metadata": {
        "id": "ik0Pof73awRO"
      },
      "source": [
        "def train(g_model, d_model, GAN_model, latent_dim, n_batch= 256, epochs = 50000):\n",
        "    half_batch = int(n_batch / 2)\n",
        "    for i in range(epochs):\n",
        "        X_real, y_real = generate_real_sample(half_batch)\n",
        "        X_fake, y_fake = generate_fake_sample(generator= g_model,\n",
        "                                              latent_dim= latent_dim,\n",
        "                                              n= half_batch)\n",
        "        d_model.train_on_batch(X_real, y_real)\n",
        "        d_model.train_on_batch(X_fake, y_fake)\n",
        "        \n",
        "        X_gan = generate_latent_points(latent_dim, n_batch)\n",
        "        y_gan = np.ones((n_batch, 1))\n",
        "        GAN_model.train_on_batch(X_gan, y_gan)\n",
        "        \n",
        "        if (i+1)%5000 == 0:\n",
        "            summarize_performance(epoch= i,\n",
        "                                  generator= g_model,\n",
        "                                  discriminator= d_model,\n",
        "                                  latent_dim= latent_dim)"
      ],
      "execution_count": null,
      "outputs": []
    },
    {
      "cell_type": "code",
      "metadata": {
        "id": "L8W_L1Jsa01H"
      },
      "source": [
        "#start Trainning - It takes time. depending on your machine it can take up to 10 to 20 minutes to visualize some result\n",
        "latent_dim = 5\n",
        "gen_model = define_generator(latent_dim= latent_dim)\n",
        "dis_model = define_discriminator()\n",
        "gan_model = define_gan(gen_model, dis_model)\n",
        "train(g_model= gen_model, d_model= dis_model, GAN_model= gan_model, latent_dim= latent_dim)"
      ],
      "execution_count": null,
      "outputs": []
    },
    {
      "cell_type": "markdown",
      "metadata": {
        "id": "uc9k9NhDaY4U"
      },
      "source": [
        "# **Modify Input to change Output Graph**"
      ]
    },
    {
      "cell_type": "code",
      "metadata": {
        "id": "kezlaT_GapaR"
      },
      "source": [
        "# New Input \r\n",
        "def generate_real_sample(n):\r\n",
        "    X1 = np.random.rand(n) - 0.5 # Generates random numbers - Determines the direction of the output graph\r\n",
        "    X2 = X1 * X1 # One Dimensional Function - Determines the Shape of the output\r\n",
        "    X1 = X1.reshape((n, 1))\r\n",
        "    X2 = X2.reshape((n, 1))\r\n",
        "    X = np.hstack((X1, X2))\r\n",
        "    y = np.ones((n, 1))\r\n",
        "    return X, y"
      ],
      "execution_count": null,
      "outputs": []
    },
    {
      "cell_type": "code",
      "metadata": {
        "id": "-xqr_jMQbK0R"
      },
      "source": [
        "# Generate new Output \r\n",
        "# Remember Trainning takes time. depending on your machine it can take up to 10 to 20 minutes to visualize some result\r\n",
        "\r\n",
        "latent_dim = 5\r\n",
        "gen_model = define_generator(latent_dim= latent_dim)\r\n",
        "dis_model = define_discriminator()\r\n",
        "gan_model = define_gan(gen_model, dis_model)\r\n",
        "train(g_model= gen_model, d_model= dis_model, GAN_model= gan_model, latent_dim= latent_dim)"
      ],
      "execution_count": null,
      "outputs": []
    }
  ]
}