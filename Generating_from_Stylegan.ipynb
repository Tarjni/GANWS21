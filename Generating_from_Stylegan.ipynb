{
  "nbformat": 4,
  "nbformat_minor": 0,
  "metadata": {
    "colab": {
      "name": "Generating from Stylegan.ipynb",
      "provenance": [],
      "authorship_tag": "ABX9TyPX4ambNPMY2mozrigSos7N",
      "include_colab_link": true
    },
    "kernelspec": {
      "name": "python3",
      "display_name": "Python 3"
    }
  },
  "cells": [
    {
      "cell_type": "markdown",
      "metadata": {
        "id": "view-in-github",
        "colab_type": "text"
      },
      "source": [
        "<a href=\"https://colab.research.google.com/github/datavzch/GANWS21_DEMO/blob/main/Generating_from_Stylegan.ipynb\" target=\"_parent\"><img src=\"https://colab.research.google.com/assets/colab-badge.svg\" alt=\"Open In Colab\"/></a>"
      ]
    },
    {
      "cell_type": "markdown",
      "metadata": {
        "id": "foRhgUqqdELa"
      },
      "source": [
        "# **Requirements and Preparation**"
      ]
    },
    {
      "cell_type": "code",
      "metadata": {
        "id": "6FlAMQeAdImZ"
      },
      "source": [
        "%tensorflow_version 1.x"
      ],
      "execution_count": null,
      "outputs": []
    },
    {
      "cell_type": "code",
      "metadata": {
        "id": "IQAWEXLbdJCj"
      },
      "source": [
        "%pip install Google-Colab-Transfer"
      ],
      "execution_count": null,
      "outputs": []
    },
    {
      "cell_type": "markdown",
      "metadata": {
        "id": "ubMj0OQxdf8n"
      },
      "source": [
        "**Mount Google Drive**"
      ]
    },
    {
      "cell_type": "code",
      "metadata": {
        "id": "UYe1fnSddVQ1"
      },
      "source": [
        "import colab_transfer\n",
        "\n",
        "gd = colab_transfer.get_path_to_home_of_google_drive()\n",
        "lm = colab_transfer.get_path_to_home_of_local_machine()\n",
        "\n",
        "colab_transfer.mount_google_drive()"
      ],
      "execution_count": null,
      "outputs": []
    },
    {
      "cell_type": "markdown",
      "metadata": {
        "id": "EGW63nxMdoxG"
      },
      "source": [
        "**Clone Stylegan2-ada  Repository**"
      ]
    },
    {
      "cell_type": "code",
      "metadata": {
        "id": "8OgbvHTSda4O"
      },
      "source": [
        "%cd /content/\n",
        "%rm -rf stylegan2-ada/\n",
        "!git clone https://github.com/NVlabs/stylegan2-ada.git\n",
        "%cd stylegan2-ada/\n",
        "!git checkout google-colab\n",
        "%cd /content/"
      ],
      "execution_count": null,
      "outputs": []
    },
    {
      "cell_type": "markdown",
      "metadata": {
        "id": "IjoztKxQdyFI"
      },
      "source": [
        "**Copy Dataset**"
      ]
    },
    {
      "cell_type": "code",
      "metadata": {
        "id": "E3VR0wsGdrY1"
      },
      "source": [
        "folder_name = 'datasets/dataset/'\n",
        "colab_transfer.copy_folder(folder_name)"
      ],
      "execution_count": null,
      "outputs": []
    },
    {
      "cell_type": "markdown",
      "metadata": {
        "id": "mbOl0IPVd3TH"
      },
      "source": [
        "**Create link with google drive**"
      ]
    },
    {
      "cell_type": "code",
      "metadata": {
        "id": "cH8HENhfd_ye"
      },
      "source": [
        "!ln -s \"/content/drive/My Drive/\" \"/content/gdrive\""
      ],
      "execution_count": null,
      "outputs": []
    },
    {
      "cell_type": "code",
      "metadata": {
        "id": "CR6xDQfEeAaI"
      },
      "source": [
        "gdrive_root = '/content/gdrive/'\n",
        "result_root_folder = 'training-runs/'"
      ],
      "execution_count": null,
      "outputs": []
    },
    {
      "cell_type": "code",
      "metadata": {
        "id": "WVU_WGwZeIBK"
      },
      "source": [
        "result_folder_name_to_load = '00025-steam-mirror-auto_no_ramp1-kimg5000-p0.713-resumecustom-freezed10/'\n",
        "network_base_name='network-snapshot-005000.pkl'"
      ],
      "execution_count": null,
      "outputs": []
    },
    {
      "cell_type": "code",
      "metadata": {
        "id": "AT_glGYyeMoX"
      },
      "source": [
        "from pathlib import Path\n",
        "\n",
        "network_pkl = f'{gdrive_root}{result_root_folder}{result_folder_name_to_load}{network_base_name}'\n",
        "\n",
        "print('{}\\nFile exists? {}'.format(\n",
        "    network_pkl,\n",
        "    Path(network_pkl).exists(),\n",
        "))"
      ],
      "execution_count": null,
      "outputs": []
    },
    {
      "cell_type": "code",
      "metadata": {
        "id": "JhdERUZfeYMP"
      },
      "source": [
        "%cd /content/"
      ],
      "execution_count": null,
      "outputs": []
    },
    {
      "cell_type": "markdown",
      "metadata": {
        "id": "zllvmIraeVRf"
      },
      "source": [
        "# **Generate average Image**"
      ]
    },
    {
      "cell_type": "code",
      "metadata": {
        "id": "WMd5FFKueZDz"
      },
      "source": [
        "%cd ./stylegan2-ada/"
      ],
      "execution_count": null,
      "outputs": []
    },
    {
      "cell_type": "code",
      "metadata": {
        "id": "dmKTLNZ1ilqu"
      },
      "source": [
        "import dnnlib\n",
        "import pickle\n",
        "from dnnlib import tflib\n",
        "\n",
        "dnnlib.tflib.init_tf()\n",
        "print('Loading networks from \"%s\"...' % network_pkl)\n",
        "with dnnlib.util.open_url(network_pkl) as fp:\n",
        "    _, _, Gs = pickle.load(fp)\n",
        "dlatents_var = Gs.get_var('dlatent_avg')"
      ],
      "execution_count": null,
      "outputs": []
    },
    {
      "cell_type": "code",
      "metadata": {
        "id": "Y_Zv5tLxiu5U"
      },
      "source": [
        "import numpy as np\n",
        "dlatents = np.tile(dlatents_var, [1, Gs.components.synthesis.input_shape[1], 1])"
      ],
      "execution_count": null,
      "outputs": []
    },
    {
      "cell_type": "code",
      "metadata": {
        "id": "_8m8G2oqi0E7"
      },
      "source": [
        "import dnnlib\n",
        "import dnnlib.tflib as tflib\n",
        "\n",
        "Gs_syn_kwargs = dnnlib.EasyDict()\n",
        "Gs_syn_kwargs.output_transform = dict(func=tflib.convert_images_to_uint8,\n",
        "                                      nchw_to_nhwc=True)\n",
        "Gs_syn_kwargs.randomize_noise = False"
      ],
      "execution_count": null,
      "outputs": []
    },
    {
      "cell_type": "code",
      "metadata": {
        "id": "pOBnPQmgi2WO"
      },
      "source": [
        "assert dlatents.shape[1:] == (14, 512) # [N, 14, 512]\n",
        "image = Gs.components.synthesis.run(dlatents, **Gs_syn_kwargs)[0]"
      ],
      "execution_count": null,
      "outputs": []
    },
    {
      "cell_type": "code",
      "metadata": {
        "id": "ZquzjoXQi57d"
      },
      "source": [
        "from pathlib import Path\n",
        "import PIL.Image\n",
        "\n",
        "fname = Path(network_pkl).name.replace('.pkl', '.jpg')\n",
        "img = PIL.Image.fromarray(image, 'RGB')\n",
        "img.save(fname)\n",
        "img"
      ],
      "execution_count": null,
      "outputs": []
    },
    {
      "cell_type": "markdown",
      "metadata": {
        "id": "eunjg_MKgEDG"
      },
      "source": [
        "# **Generate random Image**"
      ]
    },
    {
      "cell_type": "code",
      "metadata": {
        "id": "Iop-o2AtgK4t"
      },
      "source": [
        "%cd ../"
      ],
      "execution_count": null,
      "outputs": []
    },
    {
      "cell_type": "code",
      "metadata": {
        "id": "5qR3UY8vkeJw"
      },
      "source": [
        "num_images = 5"
      ],
      "execution_count": null,
      "outputs": []
    },
    {
      "cell_type": "code",
      "metadata": {
        "id": "2KRegGcMkflv"
      },
      "source": [
        "!python stylegan2-ada/generate.py --network={network_pkl} --outdir=out --trunc=1.0 --seeds=0-{num_images-1}"
      ],
      "execution_count": null,
      "outputs": []
    },
    {
      "cell_type": "code",
      "metadata": {
        "id": "NaHDgYqNkonF"
      },
      "source": [
        "!python stylegan2-ada/generate.py --network={network_pkl} --outdir=out --trunc=0.5 --seeds=0-{num_images-1}"
      ],
      "execution_count": null,
      "outputs": []
    },
    {
      "cell_type": "markdown",
      "metadata": {
        "id": "nx0fz-tFgLt7"
      },
      "source": [
        "# **Generate style mixing**"
      ]
    },
    {
      "cell_type": "code",
      "metadata": {
        "id": "7iVKcSuAgNXA"
      },
      "source": [
        "!python stylegan2-ada/style_mixing.py --network={network_pkl} --outdir=out --trunc=1.0 --rows=1,26,128,318,428,938 --cols=1,28,128,318,428,938"
      ],
      "execution_count": null,
      "outputs": []
    },
    {
      "cell_type": "code",
      "metadata": {
        "id": "9z0eXA6-kylq"
      },
      "source": [
        "!python stylegan2-ada/style_mixing.py --network={network_pkl} --outdir=out --trunc=0.5 --rows=1,28,128,318,428,938 --cols=1,28,128,318,428,938"
      ],
      "execution_count": null,
      "outputs": []
    },
    {
      "cell_type": "code",
      "metadata": {
        "id": "pAveHArWlJj0"
      },
      "source": [
        "#Add Latent Walk Generation"
      ],
      "execution_count": null,
      "outputs": []
    },
    {
      "cell_type": "code",
      "metadata": {
        "id": "L2asRRb_lowN"
      },
      "source": [
        ""
      ],
      "execution_count": null,
      "outputs": []
    }
  ]
}